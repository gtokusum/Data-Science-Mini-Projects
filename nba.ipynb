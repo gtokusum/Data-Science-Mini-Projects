{
 "metadata": {
  "language_info": {
   "codemirror_mode": {
    "name": "ipython",
    "version": 3
   },
   "file_extension": ".py",
   "mimetype": "text/x-python",
   "name": "python",
   "nbconvert_exporter": "python",
   "pygments_lexer": "ipython3",
   "version": "3.8.6-final"
  },
  "orig_nbformat": 2,
  "kernelspec": {
   "name": "python3",
   "display_name": "Python 3",
   "language": "python"
  }
 },
 "nbformat": 4,
 "nbformat_minor": 2,
 "cells": [
  {
   "cell_type": "code",
   "execution_count": 1,
   "metadata": {},
   "outputs": [],
   "source": [
    "import requests\n",
    "from bs4 import BeautifulSoup\n",
    "import pandas as pd"
   ]
  },
  {
   "cell_type": "code",
   "execution_count": 2,
   "metadata": {},
   "outputs": [],
   "source": [
    "year = 2020\n",
    "url = \"https://www.basketball-reference.com/leagues/NBA_{}_per_game.html\".format(year)"
   ]
  },
  {
   "cell_type": "code",
   "execution_count": 3,
   "metadata": {},
   "outputs": [],
   "source": [
    "page = requests.get(url)\n",
    "soup = BeautifulSoup(page.text,'html.parser')"
   ]
  },
  {
   "cell_type": "code",
   "execution_count": 4,
   "metadata": {},
   "outputs": [],
   "source": [
    "soup.findAll('tr',limit=2)\n",
    "headers = [th.getText() for th in soup.findAll('tr', limit=2)[0].findAll('th')]\n",
    "headers = headers[1:]"
   ]
  },
  {
   "cell_type": "code",
   "execution_count": 5,
   "metadata": {},
   "outputs": [],
   "source": [
    "rows = soup.findAll('tr')[1:]\n",
    "player_stats = [[td.getText() for td in rows[i].findAll('td')] for i in range(len(rows))]\n",
    "stats = pd.DataFrame(player_stats,columns = headers)"
   ]
  },
  {
   "cell_type": "code",
   "execution_count": 6,
   "metadata": {},
   "outputs": [
    {
     "output_type": "stream",
     "name": "stdout",
     "text": [
      "<class 'pandas.core.frame.DataFrame'>\nRangeIndex: 677 entries, 0 to 676\nData columns (total 29 columns):\n #   Column  Non-Null Count  Dtype \n---  ------  --------------  ----- \n 0   Player  651 non-null    object\n 1   Pos     651 non-null    object\n 2   Age     651 non-null    object\n 3   Tm      651 non-null    object\n 4   G       651 non-null    object\n 5   GS      651 non-null    object\n 6   MP      651 non-null    object\n 7   FG      651 non-null    object\n 8   FGA     651 non-null    object\n 9   FG%     651 non-null    object\n 10  3P      651 non-null    object\n 11  3PA     651 non-null    object\n 12  3P%     651 non-null    object\n 13  2P      651 non-null    object\n 14  2PA     651 non-null    object\n 15  2P%     651 non-null    object\n 16  eFG%    651 non-null    object\n 17  FT      651 non-null    object\n 18  FTA     651 non-null    object\n 19  FT%     651 non-null    object\n 20  ORB     651 non-null    object\n 21  DRB     651 non-null    object\n 22  TRB     651 non-null    object\n 23  AST     651 non-null    object\n 24  STL     651 non-null    object\n 25  BLK     651 non-null    object\n 26  TOV     651 non-null    object\n 27  PF      651 non-null    object\n 28  PTS     651 non-null    object\ndtypes: object(29)\nmemory usage: 153.5+ KB\nNone\n"
     ]
    }
   ],
   "source": [
    "stats.info()"
   ]
  },
  {
   "cell_type": "code",
   "execution_count": 7,
   "metadata": {},
   "outputs": [
    {
     "output_type": "execute_result",
     "data": {
      "text/plain": [
       "                  Player  Pos  Age   Tm    G   GS    MP   FG  FGA   FG%  ...  \\\n",
       "count                651  651  651  651  651  651   651  651  651   651  ...   \n",
       "unique               529   14   22   31   74   72   276   95  175   274  ...   \n",
       "top     Anthony Tolliver   SG   22  TOT   58    0  18.5  1.3  3.0  .500  ...   \n",
       "freq                   4  143   79   60   17  191     6   28   11    17  ...   \n",
       "\n",
       "        FT%  ORB  DRB  TRB  AST  STL  BLK  TOV   PF  PTS  \n",
       "count   651  651  651  651  651  651  651  651  651  651  \n",
       "unique  272   40   86  103   72   22   25   43   41  207  \n",
       "top     1.0  0.3  1.6  2.3  0.8  0.4  0.1  0.8  1.9  2.0  \n",
       "freq     34   74   22   23   34   77  109   49   39   11  \n",
       "\n",
       "[4 rows x 29 columns]"
      ],
      "text/html": "<div>\n<style scoped>\n    .dataframe tbody tr th:only-of-type {\n        vertical-align: middle;\n    }\n\n    .dataframe tbody tr th {\n        vertical-align: top;\n    }\n\n    .dataframe thead th {\n        text-align: right;\n    }\n</style>\n<table border=\"1\" class=\"dataframe\">\n  <thead>\n    <tr style=\"text-align: right;\">\n      <th></th>\n      <th>Player</th>\n      <th>Pos</th>\n      <th>Age</th>\n      <th>Tm</th>\n      <th>G</th>\n      <th>GS</th>\n      <th>MP</th>\n      <th>FG</th>\n      <th>FGA</th>\n      <th>FG%</th>\n      <th>...</th>\n      <th>FT%</th>\n      <th>ORB</th>\n      <th>DRB</th>\n      <th>TRB</th>\n      <th>AST</th>\n      <th>STL</th>\n      <th>BLK</th>\n      <th>TOV</th>\n      <th>PF</th>\n      <th>PTS</th>\n    </tr>\n  </thead>\n  <tbody>\n    <tr>\n      <th>count</th>\n      <td>651</td>\n      <td>651</td>\n      <td>651</td>\n      <td>651</td>\n      <td>651</td>\n      <td>651</td>\n      <td>651</td>\n      <td>651</td>\n      <td>651</td>\n      <td>651</td>\n      <td>...</td>\n      <td>651</td>\n      <td>651</td>\n      <td>651</td>\n      <td>651</td>\n      <td>651</td>\n      <td>651</td>\n      <td>651</td>\n      <td>651</td>\n      <td>651</td>\n      <td>651</td>\n    </tr>\n    <tr>\n      <th>unique</th>\n      <td>529</td>\n      <td>14</td>\n      <td>22</td>\n      <td>31</td>\n      <td>74</td>\n      <td>72</td>\n      <td>276</td>\n      <td>95</td>\n      <td>175</td>\n      <td>274</td>\n      <td>...</td>\n      <td>272</td>\n      <td>40</td>\n      <td>86</td>\n      <td>103</td>\n      <td>72</td>\n      <td>22</td>\n      <td>25</td>\n      <td>43</td>\n      <td>41</td>\n      <td>207</td>\n    </tr>\n    <tr>\n      <th>top</th>\n      <td>Anthony Tolliver</td>\n      <td>SG</td>\n      <td>22</td>\n      <td>TOT</td>\n      <td>58</td>\n      <td>0</td>\n      <td>18.5</td>\n      <td>1.3</td>\n      <td>3.0</td>\n      <td>.500</td>\n      <td>...</td>\n      <td>1.0</td>\n      <td>0.3</td>\n      <td>1.6</td>\n      <td>2.3</td>\n      <td>0.8</td>\n      <td>0.4</td>\n      <td>0.1</td>\n      <td>0.8</td>\n      <td>1.9</td>\n      <td>2.0</td>\n    </tr>\n    <tr>\n      <th>freq</th>\n      <td>4</td>\n      <td>143</td>\n      <td>79</td>\n      <td>60</td>\n      <td>17</td>\n      <td>191</td>\n      <td>6</td>\n      <td>28</td>\n      <td>11</td>\n      <td>17</td>\n      <td>...</td>\n      <td>34</td>\n      <td>74</td>\n      <td>22</td>\n      <td>23</td>\n      <td>34</td>\n      <td>77</td>\n      <td>109</td>\n      <td>49</td>\n      <td>39</td>\n      <td>11</td>\n    </tr>\n  </tbody>\n</table>\n<p>4 rows × 29 columns</p>\n</div>"
     },
     "metadata": {},
     "execution_count": 7
    }
   ],
   "source": [
    "stats.describe()"
   ]
  },
  {
   "cell_type": "code",
   "execution_count": 8,
   "metadata": {},
   "outputs": [
    {
     "output_type": "execute_result",
     "data": {
      "text/plain": [
       "                     Player Pos Age   Tm   G  GS    MP   FG   FGA   FG%  ...  \\\n",
       "0              Steven Adams   C  26  OKC  63  63  26.7  4.5   7.6  .592  ...   \n",
       "1               Bam Adebayo  PF  22  MIA  72  72  33.6  6.1  11.0  .557  ...   \n",
       "2         LaMarcus Aldridge   C  34  SAS  53  53  33.1  7.4  15.0  .493  ...   \n",
       "3            Kyle Alexander   C  23  MIA   2   0   6.5  0.5   1.0  .500  ...   \n",
       "4  Nickeil Alexander-Walker  SG  21  NOP  47   1  12.6  2.1   5.7  .368  ...   \n",
       "\n",
       "    FT%  ORB  DRB   TRB  AST  STL  BLK  TOV   PF   PTS  \n",
       "0  .582  3.3  6.0   9.3  2.3  0.8  1.1  1.5  1.9  10.9  \n",
       "1  .691  2.4  7.8  10.2  5.1  1.1  1.3  2.8  2.5  15.9  \n",
       "2  .827  1.9  5.5   7.4  2.4  0.7  1.6  1.4  2.4  18.9  \n",
       "3        1.0  0.5   1.5  0.0  0.0  0.0  0.5  0.5   1.0  \n",
       "4  .676  0.2  1.6   1.8  1.9  0.4  0.2  1.1  1.2   5.7  \n",
       "\n",
       "[5 rows x 29 columns]"
      ],
      "text/html": "<div>\n<style scoped>\n    .dataframe tbody tr th:only-of-type {\n        vertical-align: middle;\n    }\n\n    .dataframe tbody tr th {\n        vertical-align: top;\n    }\n\n    .dataframe thead th {\n        text-align: right;\n    }\n</style>\n<table border=\"1\" class=\"dataframe\">\n  <thead>\n    <tr style=\"text-align: right;\">\n      <th></th>\n      <th>Player</th>\n      <th>Pos</th>\n      <th>Age</th>\n      <th>Tm</th>\n      <th>G</th>\n      <th>GS</th>\n      <th>MP</th>\n      <th>FG</th>\n      <th>FGA</th>\n      <th>FG%</th>\n      <th>...</th>\n      <th>FT%</th>\n      <th>ORB</th>\n      <th>DRB</th>\n      <th>TRB</th>\n      <th>AST</th>\n      <th>STL</th>\n      <th>BLK</th>\n      <th>TOV</th>\n      <th>PF</th>\n      <th>PTS</th>\n    </tr>\n  </thead>\n  <tbody>\n    <tr>\n      <th>0</th>\n      <td>Steven Adams</td>\n      <td>C</td>\n      <td>26</td>\n      <td>OKC</td>\n      <td>63</td>\n      <td>63</td>\n      <td>26.7</td>\n      <td>4.5</td>\n      <td>7.6</td>\n      <td>.592</td>\n      <td>...</td>\n      <td>.582</td>\n      <td>3.3</td>\n      <td>6.0</td>\n      <td>9.3</td>\n      <td>2.3</td>\n      <td>0.8</td>\n      <td>1.1</td>\n      <td>1.5</td>\n      <td>1.9</td>\n      <td>10.9</td>\n    </tr>\n    <tr>\n      <th>1</th>\n      <td>Bam Adebayo</td>\n      <td>PF</td>\n      <td>22</td>\n      <td>MIA</td>\n      <td>72</td>\n      <td>72</td>\n      <td>33.6</td>\n      <td>6.1</td>\n      <td>11.0</td>\n      <td>.557</td>\n      <td>...</td>\n      <td>.691</td>\n      <td>2.4</td>\n      <td>7.8</td>\n      <td>10.2</td>\n      <td>5.1</td>\n      <td>1.1</td>\n      <td>1.3</td>\n      <td>2.8</td>\n      <td>2.5</td>\n      <td>15.9</td>\n    </tr>\n    <tr>\n      <th>2</th>\n      <td>LaMarcus Aldridge</td>\n      <td>C</td>\n      <td>34</td>\n      <td>SAS</td>\n      <td>53</td>\n      <td>53</td>\n      <td>33.1</td>\n      <td>7.4</td>\n      <td>15.0</td>\n      <td>.493</td>\n      <td>...</td>\n      <td>.827</td>\n      <td>1.9</td>\n      <td>5.5</td>\n      <td>7.4</td>\n      <td>2.4</td>\n      <td>0.7</td>\n      <td>1.6</td>\n      <td>1.4</td>\n      <td>2.4</td>\n      <td>18.9</td>\n    </tr>\n    <tr>\n      <th>3</th>\n      <td>Kyle Alexander</td>\n      <td>C</td>\n      <td>23</td>\n      <td>MIA</td>\n      <td>2</td>\n      <td>0</td>\n      <td>6.5</td>\n      <td>0.5</td>\n      <td>1.0</td>\n      <td>.500</td>\n      <td>...</td>\n      <td></td>\n      <td>1.0</td>\n      <td>0.5</td>\n      <td>1.5</td>\n      <td>0.0</td>\n      <td>0.0</td>\n      <td>0.0</td>\n      <td>0.5</td>\n      <td>0.5</td>\n      <td>1.0</td>\n    </tr>\n    <tr>\n      <th>4</th>\n      <td>Nickeil Alexander-Walker</td>\n      <td>SG</td>\n      <td>21</td>\n      <td>NOP</td>\n      <td>47</td>\n      <td>1</td>\n      <td>12.6</td>\n      <td>2.1</td>\n      <td>5.7</td>\n      <td>.368</td>\n      <td>...</td>\n      <td>.676</td>\n      <td>0.2</td>\n      <td>1.6</td>\n      <td>1.8</td>\n      <td>1.9</td>\n      <td>0.4</td>\n      <td>0.2</td>\n      <td>1.1</td>\n      <td>1.2</td>\n      <td>5.7</td>\n    </tr>\n  </tbody>\n</table>\n<p>5 rows × 29 columns</p>\n</div>"
     },
     "metadata": {},
     "execution_count": 8
    }
   ],
   "source": [
    "stats.head()"
   ]
  },
  {
   "cell_type": "code",
   "execution_count": 16,
   "metadata": {},
   "outputs": [
    {
     "output_type": "stream",
     "name": "stdout",
     "text": [
      "<class 'pandas.core.frame.DataFrame'>\nRangeIndex: 677 entries, 0 to 676\nData columns (total 29 columns):\n #   Column  Non-Null Count  Dtype \n---  ------  --------------  ----- \n 0   Player  651 non-null    object\n 1   Pos     651 non-null    object\n 2   Age     651 non-null    object\n 3   Tm      651 non-null    object\n 4   G       651 non-null    object\n 5   GS      651 non-null    object\n 6   MP      651 non-null    object\n 7   FG      651 non-null    object\n 8   FGA     651 non-null    object\n 9   FG%     651 non-null    object\n 10  3P      651 non-null    object\n 11  3PA     651 non-null    object\n 12  3P%     651 non-null    object\n 13  2P      651 non-null    object\n 14  2PA     651 non-null    object\n 15  2P%     651 non-null    object\n 16  eFG%    651 non-null    object\n 17  FT      651 non-null    object\n 18  FTA     651 non-null    object\n 19  FT%     651 non-null    object\n 20  ORB     651 non-null    object\n 21  DRB     651 non-null    object\n 22  TRB     651 non-null    object\n 23  AST     651 non-null    object\n 24  STL     651 non-null    object\n 25  BLK     651 non-null    object\n 26  TOV     651 non-null    object\n 27  PF      651 non-null    object\n 28  PTS     651 non-null    object\ndtypes: object(29)\nmemory usage: 153.5+ KB\n"
     ]
    }
   ],
   "source": [
    "stats.info()"
   ]
  },
  {
   "cell_type": "code",
   "execution_count": 19,
   "metadata": {},
   "outputs": [],
   "source": [
    "rowindex = ['Age','G','GS','MP','FG','FGA','FG%','3P','3PA','3P%','2P','2PA','2P%','eFG%','FT','FTA','FT%','ORB','DRB','TRB','AST','STL','BLK','TOV','PF','PTS']"
   ]
  },
  {
   "cell_type": "code",
   "execution_count": 20,
   "metadata": {},
   "outputs": [
    {
     "output_type": "stream",
     "name": "stdout",
     "text": [
      "<class 'pandas.core.frame.DataFrame'>\nRangeIndex: 677 entries, 0 to 676\nData columns (total 29 columns):\n #   Column  Non-Null Count  Dtype  \n---  ------  --------------  -----  \n 0   Player  651 non-null    object \n 1   Pos     651 non-null    object \n 2   Age     651 non-null    float64\n 3   Tm      651 non-null    object \n 4   G       651 non-null    float64\n 5   GS      651 non-null    float64\n 6   MP      651 non-null    float64\n 7   FG      651 non-null    float64\n 8   FGA     651 non-null    float64\n 9   FG%     649 non-null    float64\n 10  3P      651 non-null    float64\n 11  3PA     651 non-null    float64\n 12  3P%     616 non-null    float64\n 13  2P      651 non-null    float64\n 14  2PA     651 non-null    float64\n 15  2P%     645 non-null    float64\n 16  eFG%    649 non-null    float64\n 17  FT      651 non-null    float64\n 18  FTA     651 non-null    float64\n 19  FT%     618 non-null    float64\n 20  ORB     651 non-null    float64\n 21  DRB     651 non-null    float64\n 22  TRB     651 non-null    float64\n 23  AST     651 non-null    float64\n 24  STL     651 non-null    float64\n 25  BLK     651 non-null    float64\n 26  TOV     651 non-null    float64\n 27  PF      651 non-null    float64\n 28  PTS     651 non-null    float64\ndtypes: float64(26), object(3)\nmemory usage: 153.5+ KB\n"
     ]
    }
   ],
   "source": [
    "for i in rowindex:\n",
    "    stats[i] = stats[i].apply(pd.to_numeric)\n",
    "\n",
    "\n",
    "stats.info()"
   ]
  },
  {
   "cell_type": "code",
   "execution_count": null,
   "metadata": {},
   "outputs": [],
   "source": []
  }
 ]
}